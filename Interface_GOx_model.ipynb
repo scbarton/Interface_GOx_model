{
 "cells": [
  {
   "cell_type": "markdown",
   "metadata": {},
   "source": [
    "# Numerical model of a mediated Glucose Oxidase electrode "
   ]
  },
  {
   "cell_type": "markdown",
   "metadata": {},
   "source": [
    "Here we will solve the material balance for an electrode comprising the enzyme glucose oxidase co-immobilized in a hydrogel with the redox polymer mediator poly{N-vinylimidazole [Os(bipyridine)<sub>2</sub>Cl]<sup>+/2+</sup>}. \n",
    "\n",
    "$$ -\\frac{dN_M}{dx}= D_M\\frac{d^2M}{dx^2}=\\frac{\\nu_S k_{cat} E M S}{K_M S + K_S M + MS} $$    \n",
    "$$ -\\frac{dN_S}{dx}= D_S\\frac{d^2S}{dx^2}=\\frac{\\nu_M k_{cat} E M S}{K_M S + K_S M + MS} $$"
   ]
  },
  {
   "cell_type": "code",
   "execution_count": 1,
   "metadata": {
    "collapsed": false
   },
   "outputs": [
    {
     "name": "stdout",
     "output_type": "stream",
     "text": [
      "Populating the interactive namespace from numpy and matplotlib\n"
     ]
    }
   ],
   "source": [
    "%pylab inline"
   ]
  },
  {
   "cell_type": "code",
   "execution_count": 2,
   "metadata": {
    "collapsed": false
   },
   "outputs": [],
   "source": [
    "import scikits.bvp_solver\n",
    "from scipy.interpolate import interp1d"
   ]
  },
  {
   "cell_type": "markdown",
   "metadata": {},
   "source": [
    "### Parameters"
   ]
  },
  {
   "cell_type": "markdown",
   "metadata": {},
   "source": [
    "Parameters are taken from Ref. 1 and 2 and are typical of that system."
   ]
  },
  {
   "cell_type": "code",
   "execution_count": 3,
   "metadata": {
    "collapsed": true
   },
   "outputs": [],
   "source": [
    "DA = 2.18e-9       # Diffusivity of the mediator in cm2/s\n",
    "DS = 7e-6          # Diffusivity of the substrate (glucose) in hydrogel in cm2/s (Literature value from Calvo's 2005 paper)\n",
    "ET   = 17.96e-6    # Total enzyme concentration in mol/cm3 ---> To convert in to mM multiply by 1e6\n",
    "ST   = 50e-6       # Total bulk substrate concentration in mol/cm3\n",
    "Ao   = 659.7e-6    # Total mediator concentration in mol/cm3 from CV integration\n",
    "kcat = 17.3        # Turn over number in s-1\n",
    "kA   = 212e3       # second order rate constant for mediator in cm3/mol/s ---> To convert in to M-1 s-1 multiply by 1e-3           \n",
    "Ks   = 12.3e-6     # Michaelis constant for substrate in mol/cm3 ---> To convert in to mM multiply by 1e6\n",
    "vm = 1.             # Stoichiometric coeff. of mediator\n",
    "vs = 0.5           # Stoichiometric coeff. of substrate\n",
    "U = 0.43          # Reversible potential of the mediator in volts re:SHE\n",
    "V  = 0.6           # Fixed potential of the system in volts re:SHE\n",
    "n  = 1.             # Number of electrons transfered at the elecrode surface\n",
    "R  = 8.314         # Gas constant in J/mol/K\n",
    "F  = 96485.4       # Faraday's constant in C/mol\n",
    "T  = 313           # Temperature of the system in deg K\n",
    "L  = 1e-4          # Hydrogel film thickness in cm\n",
    "k     = 1.          # Partition coefficient of glucose and oxygen into the hydrogel film from the solution"
   ]
  },
  {
   "cell_type": "markdown",
   "metadata": {},
   "source": [
    "### Nondimensionalization"
   ]
  },
  {
   "cell_type": "markdown",
   "metadata": {},
   "source": [
    "We nondimensionalize the system according to the scheme of Ref. 2"
   ]
  },
  {
   "cell_type": "code",
   "execution_count": 4,
   "metadata": {
    "collapsed": false
   },
   "outputs": [],
   "source": [
    "kappa=L*sqrt(vm*kA*ET/DA)\n",
    "eta=(vm*DS*kA*Ks)/(vs*DA*kcat)\n",
    "gamma=(kA*Ao*Ks)/(kcat*ST)\n",
    "mu=(ST/Ks)\n",
    "\n",
    "eps = (n * F * (V-U))/(R*T)    # From the Nernst equation\n",
    "ae = 1/(1+exp(-eps))            # Dimensionless potential boundary condition at the electrode surface from the Nernst eqn\n"
   ]
  },
  {
   "cell_type": "markdown",
   "metadata": {},
   "source": [
    "### Numerical Solution"
   ]
  },
  {
   "cell_type": "markdown",
   "metadata": {},
   "source": [
    "We will solve this problem numerically using the python package [bvp_solver](https://pypi.python.org/pypi/scikits.bvp_solver)"
   ]
  },
  {
   "cell_type": "code",
   "execution_count": 5,
   "metadata": {
    "collapsed": true
   },
   "outputs": [],
   "source": [
    "def deq(x,z):  # z=[a(x) va(x) s(x) vs(x)];\n",
    "\n",
    "    a, va, s, vs = z\n",
    "\n",
    "    Ra= kappa**2*a*s/(gamma*a*(1+mu*s)+s) * (a >= 0) * (s >= 0)\n",
    "    dvadx= Ra\n",
    "    dadx= va\n",
    "    \n",
    "    dvsdx= gamma/eta*Ra\n",
    "    dsdx= vs\n",
    "    \n",
    "    dzdx= array([dadx,dvadx,dsdx,dvsdx]); return dzdx"
   ]
  },
  {
   "cell_type": "code",
   "execution_count": 6,
   "metadata": {
    "collapsed": true
   },
   "outputs": [],
   "source": [
    "def bc(z0,z1):\n",
    "\n",
    "    a0, va0, s0, vs0 = z0\n",
    "    a1, va1, s1, vs1 = z1\n",
    "       \n",
    "    res= ( array([  a0 - 1/(1+exp(-eps)),      # Nernst BC on a at electrode-film interface\n",
    "                   vs0 ]),                      # Zero flux BC on s at electrode-film interface\n",
    "    \n",
    "           array([ va1,                        # Zero flux BC on a at film-solution interface\n",
    "                    s1 - 1 ] ) )               # Concentration BC on s at film-solution interface\n",
    "\n",
    "    return res"
   ]
  },
  {
   "cell_type": "code",
   "execution_count": 7,
   "metadata": {
    "collapsed": true
   },
   "outputs": [],
   "source": [
    "problem = scikits.bvp_solver.ProblemDefinition(num_ODE = 4,\n",
    "                                      num_parameters = 0,\n",
    "                                      num_left_boundary_conditions = 2,\n",
    "                                      boundary_points = (0, 1),\n",
    "                                      function = deq,\n",
    "                                      boundary_conditions = bc)"
   ]
  },
  {
   "cell_type": "code",
   "execution_count": 8,
   "metadata": {
    "collapsed": true
   },
   "outputs": [],
   "source": [
    "solution = scikits.bvp_solver.solve(problem,\n",
    "                            solution_guess = (1,0,1,0), trace=1 )"
   ]
  },
  {
   "cell_type": "code",
   "execution_count": 9,
   "metadata": {
    "collapsed": false,
    "scrolled": false
   },
   "outputs": [
    {
     "data": {
      "image/png": "[encoded data removed]",
      "text/plain": [
       "<matplotlib.figure.Figure at 0x118eba8d0>"
      ]
     },
     "metadata": {},
     "output_type": "display_data"
    }
   ],
   "source": [
    "x = linspace(0,1)\n",
    "y=solution(x)\n",
    "\n",
    "a=y[0,:]\n",
    "s=y[2,:]\n",
    "\n",
    "plot(x,a,'-og')\n",
    "plot(x,s,'-vr')\n",
    "legend(['a','s'],loc='center right')\n",
    "xlabel('x / L')\n",
    "ylim((0,1.1))\n",
    "\n",
    "show()"
   ]
  },
  {
   "cell_type": "markdown",
   "metadata": {},
   "source": [
    "### Rajendran Analytical Model"
   ]
  },
  {
   "cell_type": "markdown",
   "metadata": {},
   "source": [
    "Rajendran ([Electrochimica Acta 147, p678, 2014](http://linkinghub.elsevier.com/retrieve/pii/S0013468614018209))"
   ]
  },
  {
   "cell_type": "code",
   "execution_count": 10,
   "metadata": {
    "collapsed": false
   },
   "outputs": [],
   "source": [
    "E=ET\n",
    "Km=kcat/kA\n",
    "Ms=Ao\n",
    "\n",
    "ns=vs\n",
    "nm=vm\n",
    "Dm=DA"
   ]
  },
  {
   "cell_type": "code",
   "execution_count": 11,
   "metadata": {
    "collapsed": false
   },
   "outputs": [],
   "source": [
    "Ss=1\n",
    "phi=  (ns/nm)*kcat*E*Ss / ( ae*Ms*Ss + ae*Ks*Ms + Km*Ss)"
   ]
  },
  {
   "cell_type": "markdown",
   "metadata": {},
   "source": [
    "The following is the steady-state part of Eq. 26 from the reference. It can be derived by assuming the reaction rate is linearly dependent on the mediator concentraiton, leading to a homogeneous equation with constant coefficients."
   ]
  },
  {
   "cell_type": "code",
   "execution_count": 12,
   "metadata": {
    "collapsed": false
   },
   "outputs": [],
   "source": [
    "def mf(x,Ss):\n",
    "    phi=  (ns/nm)*kcat*E*Ss / ( ae*Ms*Ss + ae*Ks*Ms + Km*Ss)\n",
    "        \n",
    "    mf= ae*cosh(sqrt(phi/Dm)*(x-L)) / cosh(sqrt(phi/Dm)*L)\n",
    "    return mf"
   ]
  },
  {
   "cell_type": "code",
   "execution_count": 13,
   "metadata": {
    "collapsed": false
   },
   "outputs": [],
   "source": [
    "xraj=linspace(0,L)\n",
    "mraj=mf(xraj,1)"
   ]
  },
  {
   "cell_type": "code",
   "execution_count": 14,
   "metadata": {
    "collapsed": false
   },
   "outputs": [
    {
     "data": {
      "image/png": "[encoded data removed]",
      "text/plain": [
       "<matplotlib.figure.Figure at 0x11b1444d0>"
      ]
     },
     "metadata": {},
     "output_type": "display_data"
    }
   ],
   "source": [
    "plot(xraj/L,mraj,x,a)\n",
    "ylim((0,1))\n",
    "show()"
   ]
  },
  {
   "cell_type": "markdown",
   "metadata": {
    "collapsed": true
   },
   "source": [
    "There is disagreement between these results, due to the first-order assumption in the analytical case."
   ]
  },
  {
   "cell_type": "markdown",
   "metadata": {},
   "source": [
    "## Polarization Curve"
   ]
  },
  {
   "cell_type": "markdown",
   "metadata": {},
   "source": [
    "The above numerical treatment can be enclosed in a function to calculate a polarization curve"
   ]
  },
  {
   "cell_type": "code",
   "execution_count": 27,
   "metadata": {
    "collapsed": true
   },
   "outputs": [],
   "source": [
    "def polcurve(V,ST,L):\n",
    "    \n",
    "    kappa=L*sqrt(vm*kA*ET/DA)\n",
    "    eta=(vm*DS*kA*Ks)/(vs*DA*kcat)\n",
    "    gamma=(kA*Ao*Ks)/(kcat*ST)\n",
    "    mu=(ST/Ks)\n",
    "\n",
    "    eps = (n * F * (V-U))/(R*T)    # From the Nernst equation\n",
    "    ae = 1/(1+exp(-eps))            # Dimensionless potential boundary condition at the electrode surface from the Nernst eqn\n",
    "\n",
    "\n",
    "    def deq(x,z):  # z=[a(x) va(x) s(x) vs(x)];\n",
    "\n",
    "        a, va, s, vs = z\n",
    "\n",
    "        Ra= kappa**2*a*s/(gamma*a*(1+mu*s)+s) * (a >= 0) * (s >= 0)\n",
    "        dvadx= Ra\n",
    "        dadx= va\n",
    "\n",
    "        dvsdx= gamma/eta*Ra\n",
    "        dsdx= vs\n",
    "\n",
    "        dzdx= array([dadx,dvadx,dsdx,dvsdx]); return dzdx\n",
    "\n",
    "\n",
    "    def bc(z0,z1):\n",
    "\n",
    "        a0, va0, s0, vs0 = z0\n",
    "        a1, va1, s1, vs1 = z1\n",
    "\n",
    "        res= ( array([  a0 - 1/(1+exp(-eps)),      # Nernst BC on a at electrode-film interface\n",
    "                       vs0 ]),                      # Zero flux BC on s at electrode-film interface\n",
    "\n",
    "               array([ va1,                        # Zero flux BC on a at film-solution interface\n",
    "                        s1 - 1 ] ) )               # Concentration BC on s at film-solution interface\n",
    "\n",
    "        return res\n",
    "\n",
    "    problem = scikits.bvp_solver.ProblemDefinition(num_ODE = 4,\n",
    "                                          num_parameters = 0,\n",
    "                                          num_left_boundary_conditions = 2,\n",
    "                                          boundary_points = (0, 1),\n",
    "                                          function = deq,\n",
    "                                          boundary_conditions = bc)\n",
    "    \n",
    "    solution = scikits.bvp_solver.solve(problem,\n",
    "                            solution_guess = (1,0,1,0), trace=1 )\n",
    "\n",
    "    x = linspace(0,1)\n",
    "    y=solution(x)\n",
    "    icd=-n*F/vm*DA*Ao/L*y[1,0]\n",
    "    \n",
    "    return icd"
   ]
  },
  {
   "cell_type": "code",
   "execution_count": 73,
   "metadata": {
    "collapsed": false
   },
   "outputs": [
    {
     "data": {
      "text/plain": [
       "<matplotlib.text.Text at 0x11b87a990>"
      ]
     },
     "execution_count": 73,
     "metadata": {},
     "output_type": "execute_result"
    },
    {
     "data": {
      "image/png": "[encoded data removed]",
      "text/plain": [
       "<matplotlib.figure.Figure at 0x11b181190>"
      ]
     },
     "metadata": {},
     "output_type": "display_data"
    }
   ],
   "source": [
    "V=linspace(0,1,80)\n",
    "pv=vectorize(polcurve)\n",
    "icd=pv(V,ST,L)\n",
    "plot(V,icd*1000,'-og')\n",
    "xlabel('Potential / V vs. SHE')\n",
    "ylabel('Current Density / mA cm$^{-2}$')"
   ]
  },
  {
   "cell_type": "markdown",
   "metadata": {
    "collapsed": true
   },
   "source": [
    "## Porous electrode model"
   ]
  },
  {
   "cell_type": "markdown",
   "metadata": {},
   "source": [
    "### New parameters:"
   ]
  },
  {
   "cell_type": "code",
   "execution_count": 17,
   "metadata": {
    "collapsed": true
   },
   "outputs": [],
   "source": [
    "Lp= 100e-4   # cm, electrode thickness\n",
    "a= 0.16e4    # cm^-1, carbon surface area per unit volume\n",
    "eps=0.7      # porosity\n",
    "tp= 2*L/(a*Lp) # Effective thickness of hydrogel film due to roughness a*Lp, with loading L doubled\n",
    "\n",
    "DSe= DS*eps**1.5;    # Effective diffusivity of substrate due to porosity, eps (Bruggeman relation)"
   ]
  },
  {
   "cell_type": "code",
   "execution_count": 20,
   "metadata": {
    "collapsed": false
   },
   "outputs": [],
   "source": [
    "def porous(V,S0):\n",
    "    \n",
    "    # We first create a lookup table, Rp(Sv) for local glucose consumption rate \n",
    "    # as a function of glucose concentration at this potential\n",
    "    \n",
    "    Sv=ST*logspace(-6,2,81)\n",
    "    jS=pv(V,Sv,tp) * a * vs / n / F\n",
    "    Rp= interp1d(Sv,jS)\n",
    "    \n",
    "    def deq(y,u):  # u=[s(y) vs(y)];\n",
    "\n",
    "        S, vS = u\n",
    "\n",
    "        dvSdy= Rp(S)/DSe\n",
    "        dSdy= vS\n",
    "\n",
    "        dudy= array([dSdy, dvSdy]); return dudy\n",
    "    \n",
    "    def bc(uL,uR):\n",
    "\n",
    "        SL, vSL = uL\n",
    "        SR, vSR = uR\n",
    "\n",
    "\n",
    "        res= ( array([ vSL ]), array([ SR - S0 ] ) )               # Concentration BC on s at film-solution interface\n",
    "\n",
    "        return res\n",
    "\n",
    "\n",
    "    problem = scikits.bvp_solver.ProblemDefinition(num_ODE = 2,\n",
    "                                          num_parameters = 0,\n",
    "                                          num_left_boundary_conditions = 1,\n",
    "                                          boundary_points = (0, Lp),\n",
    "                                          function = deq,\n",
    "                                          boundary_conditions = bc)\n",
    "    \n",
    "    solution = scikits.bvp_solver.solve(problem,\n",
    "                            solution_guess = (S0,0), trace=1 )\n",
    "\n",
    "    x = linspace(0,Lp)\n",
    "    y=solution(x)\n",
    "    icd=+n*F/vs*DSe*y[1,-1]\n",
    "    \n",
    "    return icd\n"
   ]
  },
  {
   "cell_type": "code",
   "execution_count": 22,
   "metadata": {
    "collapsed": false
   },
   "outputs": [
    {
     "data": {
      "text/plain": [
       "0.0039828162816270924"
      ]
     },
     "execution_count": 22,
     "metadata": {},
     "output_type": "execute_result"
    }
   ],
   "source": [
    "icd= porous(1,ST)\n",
    "icd"
   ]
  },
  {
   "cell_type": "code",
   "execution_count": 72,
   "metadata": {
    "collapsed": false,
    "scrolled": true
   },
   "outputs": [
    {
     "data": {
      "text/plain": [
       "<matplotlib.text.Text at 0x11b710ad0>"
      ]
     },
     "execution_count": 72,
     "metadata": {},
     "output_type": "execute_result"
    },
    {
     "data": {
      "image/png": "[encoded data removed]",
      "text/plain": [
       "<matplotlib.figure.Figure at 0x11b6ea4d0>"
      ]
     },
     "metadata": {},
     "output_type": "display_data"
    }
   ],
   "source": [
    "porv=vectorize(porous)\n",
    "icd=porv(V,ST)\n",
    "plot(V,icd*1000,'-og')\n",
    "xlabel('Potential / V vs. SHE')\n",
    "ylabel('Current Density / mA cm$^{-2}$')"
   ]
  },
  {
   "cell_type": "markdown",
   "metadata": {},
   "source": [
    "## Cell Polarization"
   ]
  },
  {
   "cell_type": "markdown",
   "metadata": {},
   "source": [
    "For cell polarization, we define a cathode and calculate its polarization curve.  We then match current densities and calculate overall cell polarization. With this approach, we neglect transport limitations external to the electrodes."
   ]
  },
  {
   "cell_type": "code",
   "execution_count": 63,
   "metadata": {
    "collapsed": true
   },
   "outputs": [],
   "source": [
    "def catcurve(V,ST,L):\n",
    "    \n",
    "    kcat=100\n",
    "    n=4\n",
    "    vm=4\n",
    "    vs=1\n",
    "    U = 0.8\n",
    "    \n",
    "    kappa=L*sqrt(vm*kA*ET/DA)\n",
    "    eta=(vm*DS*kA*Ks)/(vs*DA*kcat)\n",
    "    gamma=(kA*Ao*Ks)/(kcat*ST)\n",
    "    mu=(ST/Ks)\n",
    "\n",
    "    eps = -(n * F * (V-U))/(R*T)    # From the Nernst equation\n",
    "    ae = 1/(1+exp(-eps))            # Dimensionless potential boundary condition at the electrode surface from the Nernst eqn\n",
    "\n",
    "\n",
    "    def deq(x,z):  # z=[a(x) va(x) s(x) vs(x)];\n",
    "\n",
    "        a, va, s, vs = z\n",
    "\n",
    "        Ra= kappa**2*a*s/(gamma*a*(1+mu*s)+s) * (a >= 0) * (s >= 0)\n",
    "        dvadx= Ra\n",
    "        dadx= va\n",
    "\n",
    "        dvsdx= gamma/eta*Ra\n",
    "        dsdx= vs\n",
    "\n",
    "        dzdx= array([dadx,dvadx,dsdx,dvsdx]); return dzdx\n",
    "\n",
    "\n",
    "    def bc(z0,z1):\n",
    "\n",
    "        a0, va0, s0, vs0 = z0\n",
    "        a1, va1, s1, vs1 = z1\n",
    "\n",
    "        res= ( array([  a0 - 1/(1+exp(-eps)),      # Nernst BC on a at electrode-film interface\n",
    "                       vs0 ]),                      # Zero flux BC on s at electrode-film interface\n",
    "\n",
    "               array([ va1,                        # Zero flux BC on a at film-solution interface\n",
    "                        s1 - 1 ] ) )               # Concentration BC on s at film-solution interface\n",
    "\n",
    "        return res\n",
    "\n",
    "    problem = scikits.bvp_solver.ProblemDefinition(num_ODE = 4,\n",
    "                                          num_parameters = 0,\n",
    "                                          num_left_boundary_conditions = 2,\n",
    "                                          boundary_points = (0, 1),\n",
    "                                          function = deq,\n",
    "                                          boundary_conditions = bc)\n",
    "    \n",
    "    solution = scikits.bvp_solver.solve(problem,\n",
    "                            solution_guess = (1,0,1,0), trace=1 )\n",
    "\n",
    "    x = linspace(0,1)\n",
    "    y=solution(x)\n",
    "    icd=-n*F/vm*DA*Ao/L*y[1,0]\n",
    "    \n",
    "    return icd"
   ]
  },
  {
   "cell_type": "code",
   "execution_count": 74,
   "metadata": {
    "collapsed": false
   },
   "outputs": [
    {
     "data": {
      "text/plain": [
       "<matplotlib.text.Text at 0x11b9c8c90>"
      ]
     },
     "execution_count": 74,
     "metadata": {},
     "output_type": "execute_result"
    },
    {
     "data": {
      "image/png": "[encoded data removed]",
      "text/plain": [
       "<matplotlib.figure.Figure at 0x118f9f510>"
      ]
     },
     "metadata": {},
     "output_type": "display_data"
    }
   ],
   "source": [
    "STc=1e-6\n",
    "cv=vectorize(catcurve)\n",
    "icd_cat=cv(V,STc,L)\n",
    "plot(V,icd_cat*1000,'-og')\n",
    "xlabel('Potential / V vs. SHE')\n",
    "ylabel('Current Density / mA cm$^{-2}$')"
   ]
  },
  {
   "cell_type": "code",
   "execution_count": 99,
   "metadata": {
    "collapsed": false
   },
   "outputs": [],
   "source": [
    "pv_i=interp1d(icd,V)\n",
    "cv_i= interp1d(icd_cat,V)\n",
    "V_cell=cv_i(icell)-pv_i(icell)"
   ]
  },
  {
   "cell_type": "code",
   "execution_count": 89,
   "metadata": {
    "collapsed": false
   },
   "outputs": [],
   "source": [
    "imax= amin(amax(array([icd,icd_cat]),axis=1))\n",
    "icell=imax*logspace(-3,0)"
   ]
  },
  {
   "cell_type": "code",
   "execution_count": 102,
   "metadata": {
    "collapsed": false
   },
   "outputs": [
    {
     "data": {
      "text/plain": [
       "[<matplotlib.lines.Line2D at 0x11cc8f350>,\n",
       " <matplotlib.lines.Line2D at 0x11cd3af90>,\n",
       " <matplotlib.lines.Line2D at 0x11cd48650>]"
      ]
     },
     "execution_count": 102,
     "metadata": {},
     "output_type": "execute_result"
    },
    {
     "data": {
      "image/png": "[encoded data removed]",
      "text/plain": [
       "<matplotlib.figure.Figure at 0x11cb5f810>"
      ]
     },
     "metadata": {},
     "output_type": "display_data"
    }
   ],
   "source": [
    "semilogx(icell,pv_i(icell),'o-',icell,cv_i(icell),'o-',icell,V_cell,'s-')"
   ]
  }
 ],
 "metadata": {
  "kernelspec": {
   "display_name": "Python 2",
   "language": "python",
   "name": "python2"
  },
  "language_info": {
   "codemirror_mode": {
    "name": "ipython",
    "version": 2
   },
   "file_extension": ".py",
   "mimetype": "text/x-python",
   "name": "python",
   "nbconvert_exporter": "python",
   "pygments_lexer": "ipython2",
   "version": "2.7.10"
  }
 },
 "nbformat": 4,
 "nbformat_minor": 0
}
