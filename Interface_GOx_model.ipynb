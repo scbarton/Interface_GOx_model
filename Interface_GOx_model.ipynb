{
 "cells": [
  {
   "cell_type": "markdown",
   "metadata": {},
   "source": [
    "# Numerical model of a mediated Glucose Oxidase electrode "
   ]
  },
  {
   "cell_type": "markdown",
   "metadata": {},
   "source": [
    "Here we will solve the material balance for an electrode comprising the enzyme glucose oxidase co-immobilized in a hydrogel with the redox polymer mediator poly{N-vinylimidazole [Os(bipyridine)<sub>2</sub>Cl]<sup>+/2+</sup>}. The governing equations and boundary conditions are adapted from <a href=\"http://dx.doi.org/10.1016/0022-0728(95)04236-7\">Bartlett and Pratt, 1995</a>:\n",
    "\n",
    "$$ -\\frac{dN_M}{dx}= D_M\\frac{d^2M}{dx^2}=\\frac{\\nu_M k_M k_{cat} E M S}{k_M M (K_S+S) + k_{cat}S} $$    \n",
    "$$ -\\frac{dN_S}{dx}= D_S\\frac{d^2S}{dx^2}=\\frac{\\nu_S k_M k_{cat} E M S}{k_M M (K_S+S) + k_{cat}S} $$    \n",
    "\n",
    "at x=0: $V=U+\\frac{nF}{RT}log\\frac{M}{M_{tot}-M}$, $\\frac{dS}{dx}=0$\n",
    "\n",
    "at x=L: $\\frac{dM}{dx}=0$, $S=S_0$"
   ]
  },
  {
   "cell_type": "markdown",
   "metadata": {},
   "source": [
    "<span style=\"color:green\">Please send comments or suggestions to scb at msu dot edu.</span>"
   ]
  },
  {
   "cell_type": "code",
   "execution_count": 1,
   "metadata": {
    "collapsed": false
   },
   "outputs": [
    {
     "name": "stdout",
     "output_type": "stream",
     "text": [
      "Populating the interactive namespace from numpy and matplotlib\n"
     ]
    }
   ],
   "source": [
    "%pylab inline"
   ]
  },
  {
   "cell_type": "code",
   "execution_count": 2,
   "metadata": {
    "collapsed": false
   },
   "outputs": [],
   "source": [
    "import scikits.bvp_solver\n",
    "from scipy.interpolate import interp1d"
   ]
  },
  {
   "cell_type": "markdown",
   "metadata": {},
   "source": [
    "### Parameters"
   ]
  },
  {
   "cell_type": "markdown",
   "metadata": {},
   "source": [
    "Parameters are taken from Ref. 1 and 2 and are typical of that system."
   ]
  },
  {
   "cell_type": "code",
   "execution_count": 3,
   "metadata": {
    "collapsed": true
   },
   "outputs": [],
   "source": [
    "DM = 2.18e-9       # Diffusivity of the mediator in cm2/s\n",
    "DS = 7e-6          # Diffusivity of the substrate (glucose) in hydrogel in cm2/s (Literature value from Calvo's 2005 paper)\n",
    "ET   = 17.96e-6    # Total enzyme concentration in mol/cm3 ---> To convert in to mM multiply by 1e6\n",
    "ST   = 50e-6       # Total bulk substrate concentration in mol/cm3\n",
    "Mtot   = 659.7e-6    # Total mediator concentration in mol/cm3 from CV integration\n",
    "kcat = 17.3        # Turn over number in s-1\n",
    "kM   = 212e3       # second order rate constant for mediator in cm3/mol/s ---> To convert in to M-1 s-1 multiply by 1e-3           \n",
    "KS   = 12.3e-6     # Michaelis constant for substrate in mol/cm3 ---> To convert in to mM multiply by 1e6\n",
    "vm = 1.             # Stoichiometric coeff. of mediator\n",
    "vs = 0.5           # Stoichiometric coeff. of substrate\n",
    "U = 0.43          # Reversible potential of the mediator in volts re:SHE\n",
    "V  = 0.6           # Fixed potential of the system in volts re:SHE\n",
    "n  = 1.             # Number of electrons transfered at the elecrode surface\n",
    "R  = 8.314         # Gas constant in J/mol/K\n",
    "F  = 96485.4       # Faraday's constant in C/mol\n",
    "T  = 313           # Temperature of the system in deg K\n",
    "L  = 1e-4          # Hydrogel film thickness in cm\n",
    "p     = 1.          # Partition coefficient of glucose and oxygen into the hydrogel film from the solution"
   ]
  },
  {
   "cell_type": "markdown",
   "metadata": {},
   "source": [
    "### Nondimensionalization"
   ]
  },
  {
   "cell_type": "markdown",
   "metadata": {},
   "source": [
    "We nondimensionalize the system according to the scheme of <a href=\"http://dx.doi.org/10.1016/0022-0728(95)04236-7\">Bartlett and Pratt, 1995</a>:"
   ]
  },
  {
   "cell_type": "code",
   "execution_count": 4,
   "metadata": {
    "collapsed": false
   },
   "outputs": [],
   "source": [
    "kappa=L*sqrt(vm*kM*ET/DM)\n",
    "eta=(vm*DS*kM*KS)/(vs*DM*kcat)\n",
    "gamma=(kM*Mtot*KS)/(kcat*ST)\n",
    "mu=(ST/KS)\n",
    "\n",
    "eps = (n * F * (V-U))/(R*T)    # From the Nernst equation\n",
    "ae = 1/(1+exp(-eps))            # Dimensionless potential boundary condition at the electrode surface from the Nernst eqn"
   ]
  },
  {
   "cell_type": "markdown",
   "metadata": {},
   "source": [
    "### Numerical Solution"
   ]
  },
  {
   "cell_type": "markdown",
   "metadata": {},
   "source": [
    "We will solve this problem numerically using the python package [bvp_solver](https://pypi.python.org/pypi/scikits.bvp_solver)"
   ]
  },
  {
   "cell_type": "code",
   "execution_count": 5,
   "metadata": {
    "collapsed": true
   },
   "outputs": [],
   "source": [
    "def deq(x,z):  # z=[a(x) va(x) s(x) vs(x)];\n",
    "\n",
    "    a, va, s, vs = z\n",
    "\n",
    "    Ra= kappa**2*a*s/(gamma*a*(1+mu*s)+s) \n",
    "    dvadx= Ra\n",
    "    dadx= va\n",
    "    \n",
    "    dvsdx= gamma/eta*Ra\n",
    "    dsdx= vs\n",
    "    \n",
    "    dzdx= array([dadx,dvadx,dsdx,dvsdx]); return dzdx"
   ]
  },
  {
   "cell_type": "code",
   "execution_count": 6,
   "metadata": {
    "collapsed": true
   },
   "outputs": [],
   "source": [
    "def bc(z0,z1):\n",
    "\n",
    "    a0, va0, s0, vs0 = z0\n",
    "    a1, va1, s1, vs1 = z1\n",
    "       \n",
    "    res= ( array([  a0 - 1/(1+exp(-eps)),      # Nernst BC on a at electrode-film interface\n",
    "                   vs0 ]),                      # Zero flux BC on s at electrode-film interface\n",
    "    \n",
    "           array([ va1,                        # Zero flux BC on a at film-solution interface\n",
    "                    s1 - 1 ] ) )               # Concentration BC on s at film-solution interface\n",
    "\n",
    "    return res"
   ]
  },
  {
   "cell_type": "code",
   "execution_count": 7,
   "metadata": {
    "collapsed": false
   },
   "outputs": [],
   "source": [
    "problem = scikits.bvp_solver.ProblemDefinition(num_ODE = 4,\n",
    "                                      num_parameters = 0,\n",
    "                                      num_left_boundary_conditions = 2,\n",
    "                                      boundary_points = (0, 1),\n",
    "                                      function = deq,\n",
    "                                      boundary_conditions = bc)"
   ]
  },
  {
   "cell_type": "code",
   "execution_count": 8,
   "metadata": {
    "collapsed": true
   },
   "outputs": [],
   "source": [
    "solution = scikits.bvp_solver.solve(problem,\n",
    "                            solution_guess = (1,0,1,0), trace=1 )"
   ]
  },
  {
   "cell_type": "code",
   "execution_count": 9,
   "metadata": {
    "collapsed": false,
    "scrolled": false
   },
   "outputs": [
    {
     "data": {
      "image/png": "[encoded data removed]",
      "text/plain": [
       "<matplotlib.figure.Figure at 0x117d3ba50>"
      ]
     },
     "metadata": {},
     "output_type": "display_data"
    }
   ],
   "source": [
    "x = linspace(0,1)\n",
    "y=solution(x)\n",
    "\n",
    "m=y[0,:]\n",
    "s=y[2,:]\n",
    "\n",
    "plot(x,m,'-og')\n",
    "plot(x,s,'-vr')\n",
    "legend(['m','s'],loc='center right')\n",
    "xlabel('x / L')\n",
    "ylabel('Dimensionless Concentration')\n",
    "ylim((0,1.1))\n",
    "\n",
    "show()"
   ]
  },
  {
   "cell_type": "markdown",
   "metadata": {},
   "source": [
    "We can see that, for this case, the substrate concentration (s) is uniform, and there is only mass transfer limitations for the mediator (m)."
   ]
  },
  {
   "cell_type": "markdown",
   "metadata": {},
   "source": [
    "## Polarization Curve"
   ]
  },
  {
   "cell_type": "markdown",
   "metadata": {},
   "source": [
    "The above numerical treatment can be enclosed in a function to calculate a polarization curve"
   ]
  },
  {
   "cell_type": "code",
   "execution_count": 10,
   "metadata": {
    "collapsed": false
   },
   "outputs": [],
   "source": [
    "def polcurve(V,ST,L):\n",
    "    \n",
    "    kappa=L*sqrt(vm*kM*ET/DM)\n",
    "    eta=(vm*DS*kM*KS)/(vs*DM*kcat)\n",
    "    gamma=(kM*Mtot*KS)/(kcat*ST)\n",
    "    mu=(ST/KS)\n",
    "\n",
    "    eps = (n * F * (V-U))/(R*T)    # From the Nernst equation\n",
    "    ae = 1/(1+exp(-eps))            # Dimensionless potential boundary condition at the electrode surface from the Nernst eqn\n",
    "\n",
    "\n",
    "    def deq(x,z):  # z=[a(x) va(x) s(x) vs(x)];\n",
    "\n",
    "        a, va, s, vs = z\n",
    "\n",
    "        Ra= kappa**2*a*s/(gamma*a*(1+mu*s)+s) * (a >= 0) * (s >= 0)\n",
    "        dvadx= Ra\n",
    "        dadx= va\n",
    "\n",
    "        dvsdx= gamma/eta*Ra\n",
    "        dsdx= vs\n",
    "\n",
    "        dzdx= array([dadx,dvadx,dsdx,dvsdx]); return dzdx\n",
    "\n",
    "\n",
    "    def bc(z0,z1):\n",
    "\n",
    "        a0, va0, s0, vs0 = z0\n",
    "        a1, va1, s1, vs1 = z1\n",
    "\n",
    "        res= ( array([  a0 - 1/(1+exp(-eps)),      # Nernst BC on a at electrode-film interface\n",
    "                       vs0 ]),                      # Zero flux BC on s at electrode-film interface\n",
    "\n",
    "               array([ va1,                        # Zero flux BC on a at film-solution interface\n",
    "                        s1 - 1 ] ) )               # Concentration BC on s at film-solution interface\n",
    "\n",
    "        return res\n",
    "\n",
    "    problem = scikits.bvp_solver.ProblemDefinition(num_ODE = 4,\n",
    "                                          num_parameters = 0,\n",
    "                                          num_left_boundary_conditions = 2,\n",
    "                                          boundary_points = (0, 1),\n",
    "                                          function = deq,\n",
    "                                          boundary_conditions = bc)\n",
    "    \n",
    "    xinit=hstack((0,logspace(-3,0,121)))\n",
    "    \n",
    "    solution = scikits.bvp_solver.solve(problem,\n",
    "                            solution_guess = (1,0,1,0),\n",
    "                            #initial_mesh = xinit,\n",
    "                            max_subintervals = 10000,\n",
    "                            trace=0 )\n",
    "\n",
    "    x = linspace(0,1)\n",
    "    y=solution(x)\n",
    "    icd=-n*F/vm*DM*Mtot/L*y[1,0]\n",
    "    \n",
    "    return icd"
   ]
  },
  {
   "cell_type": "markdown",
   "metadata": {},
   "source": [
    "We now can calculate polarization curves for three different film thicknesses (L):"
   ]
  },
  {
   "cell_type": "code",
   "execution_count": 11,
   "metadata": {
    "collapsed": false
   },
   "outputs": [],
   "source": [
    "V=linspace(0,1,80)\n",
    "\n",
    "pv=vectorize(polcurve)\n",
    "icdp5=pv(V,ST,0.5e-4)\n",
    "icd1=pv(V,ST,1e-4)\n",
    "icd2=pv(V,ST,2e-4)"
   ]
  },
  {
   "cell_type": "code",
   "execution_count": 12,
   "metadata": {
    "collapsed": false
   },
   "outputs": [
    {
     "data": {
      "image/png": "[encoded data removed]",
      "text/plain": [
       "<matplotlib.figure.Figure at 0x117c32c10>"
      ]
     },
     "metadata": {},
     "output_type": "display_data"
    }
   ],
   "source": [
    "fp5, = plot(V, icdp5*1000,'-or' )\n",
    "f1,  = plot(V, icd1 *1000,'-og' )\n",
    "f2,  = plot(V, icd2 *1000,'-ob' )\n",
    "xlabel('Potential / V vs. SHE')\n",
    "ylabel('Current Density / mA cm$^{-2}$')\n",
    "legend([fp5, f1, f2],['0.5 $\\mu$m','1','2'],loc=2)\n",
    "show()"
   ]
  },
  {
   "cell_type": "markdown",
   "metadata": {},
   "source": [
    "We see that the plateau current approximately doubles from L=0.5 to 1 $\\mu$m, but increases only a small amount at L=2 $\\mu$m, due to mediator mass transport limitations that lead to reduced utilization. "
   ]
  },
  {
   "cell_type": "markdown",
   "metadata": {
    "collapsed": true
   },
   "source": [
    "## Porous electrode model"
   ]
  },
  {
   "cell_type": "markdown",
   "metadata": {},
   "source": [
    "### New parameters:"
   ]
  },
  {
   "cell_type": "code",
   "execution_count": 13,
   "metadata": {
    "collapsed": true
   },
   "outputs": [],
   "source": [
    "Lp= 100e-4   # cm, electrode thickness\n",
    "a= 0.16e4    # cm^-1, carbon surface area per unit volume\n",
    "eps=0.7      # porosity\n",
    "\n",
    "DSe= DS*eps**1.5;    # Effective diffusivity of substrate due to porosity, eps (Bruggeman relation)"
   ]
  },
  {
   "cell_type": "code",
   "execution_count": 14,
   "metadata": {
    "collapsed": false
   },
   "outputs": [],
   "source": [
    "def porous(V,S0,L):\n",
    "    \n",
    "    # Effective thickness of hydrogel film due to roughness a*Lp, \n",
    "    # with loading, L, corresponding to the film thickness described previously.\n",
    "\n",
    "    tp= 2*L/(a*Lp) \n",
    "    \n",
    "    # We first create a lookup table, Rp(Sv) for local glucose consumption rate \n",
    "    # as a function of glucose concentration at this potential\n",
    "    \n",
    "    Sv=ST*logspace(-6,2,81)\n",
    "    jS=pv(V,Sv,tp) * a * vs / n / F\n",
    "    Rp= interp1d(Sv,jS)\n",
    "    \n",
    "    def deq(y,u):  # u=[s(y) vs(y)];\n",
    "\n",
    "        S, vS = u\n",
    "\n",
    "        dvSdy= Rp(S)/DSe\n",
    "        dSdy= vS\n",
    "\n",
    "        dudy= array([dSdy, dvSdy]); return dudy\n",
    "    \n",
    "    def bc(uL,uR):\n",
    "\n",
    "        SL, vSL = uL\n",
    "        SR, vSR = uR\n",
    "\n",
    "\n",
    "        res= ( array([ vSL ]), array([ SR - S0 ] ) )               # Concentration BC on s at film-solution interface\n",
    "\n",
    "        return res\n",
    "\n",
    "\n",
    "    problem = scikits.bvp_solver.ProblemDefinition(num_ODE = 2,\n",
    "                                          num_parameters = 0,\n",
    "                                          num_left_boundary_conditions = 1,\n",
    "                                          boundary_points = (0, Lp),\n",
    "                                          function = deq,\n",
    "                                          boundary_conditions = bc)\n",
    "    \n",
    "    solution = scikits.bvp_solver.solve(problem,\n",
    "                            solution_guess = (S0,0), \n",
    "                            tolerance = 1.0e-3,\n",
    "                            trace=1 )\n",
    "\n",
    "    x = linspace(0,Lp)\n",
    "    y=solution(x)\n",
    "    icd=+n*F/vs*DSe*y[1,-1]\n",
    "    \n",
    "    return icd\n"
   ]
  },
  {
   "cell_type": "markdown",
   "metadata": {},
   "source": [
    "We again calculate polarization curves for three different film thicknesses, L, now using the porous model."
   ]
  },
  {
   "cell_type": "code",
   "execution_count": 18,
   "metadata": {
    "collapsed": false
   },
   "outputs": [],
   "source": [
    "porv=vectorize(porous)\n",
    "icpp5=porv(V,ST,0.5e-4)\n",
    "icp1= porv(V,ST,1e-4)\n",
    "icp2= porv(V,ST,2e-4)"
   ]
  },
  {
   "cell_type": "code",
   "execution_count": 21,
   "metadata": {
    "collapsed": false,
    "scrolled": false
   },
   "outputs": [
    {
     "data": {
      "image/png": "[encoded data removed]",
      "text/plain": [
       "<matplotlib.figure.Figure at 0x115918590>"
      ]
     },
     "metadata": {},
     "output_type": "display_data"
    }
   ],
   "source": [
    "fp5, = plot(V, icpp5*1000,'-or' )\n",
    "f1,  = plot(V, icp1 *1000,'-og' )\n",
    "f2,  = plot(V, icp2 *1000,'-ob' )\n",
    "xlabel('Potential / V vs. SHE')\n",
    "ylabel('Current Density / mA cm$^{-2}$')\n",
    "legend([fp5, f1, f2],['0.5 $\\mu$m','1','2'],loc=2)\n",
    "show()"
   ]
  },
  {
   "cell_type": "markdown",
   "metadata": {},
   "source": [
    "In the case of the porous electrode, the plateau current nearly doubles for eaching doubling of the loading. The reason why the plateau does not reach 8 mA cm<sup>-2</sup> for L=2 $\\mu$m is that substrate transport becomes rate limiting. "
   ]
  },
  {
   "cell_type": "markdown",
   "metadata": {},
   "source": [
    "## Cell Polarization"
   ]
  },
  {
   "cell_type": "markdown",
   "metadata": {},
   "source": [
    "For cell polarization, we define a cathode and calculate its polarization curve.  We then match current densities and calculate overall cell polarization. With this approach, we neglect transport limitations external to the electrodes."
   ]
  },
  {
   "cell_type": "code",
   "execution_count": 27,
   "metadata": {
    "collapsed": true
   },
   "outputs": [],
   "source": [
    "def catcurve(V,ST,L):\n",
    "    \n",
    "    kcat=100\n",
    "    n=4\n",
    "    vm=4\n",
    "    vs=1\n",
    "    U = 0.8\n",
    "    \n",
    "    kappa=L*sqrt(vm*kM*ET/DM)\n",
    "    eta=(vm*DS*kM*KS)/(vs*DM*kcat)\n",
    "    gamma=(kM*Mtot*KS)/(kcat*ST)\n",
    "    mu=(ST/KS)\n",
    "\n",
    "    eps = -(n * F * (V-U))/(R*T)    # From the Nernst equation\n",
    "    ae = 1/(1+exp(-eps))            # Dimensionless potential boundary condition at the electrode surface from the Nernst eqn\n",
    "\n",
    "\n",
    "    def deq(x,z):  # z=[a(x) va(x) s(x) vs(x)];\n",
    "\n",
    "        a, va, s, vs = z\n",
    "\n",
    "        Ra= kappa**2*a*s/(gamma*a*(1+mu*s)+s) * (a >= 0) * (s >= 0)\n",
    "        dvadx= Ra\n",
    "        dadx= va\n",
    "\n",
    "        dvsdx= gamma/eta*Ra\n",
    "        dsdx= vs\n",
    "\n",
    "        dzdx= array([dadx,dvadx,dsdx,dvsdx]); return dzdx\n",
    "\n",
    "\n",
    "    def bc(z0,z1):\n",
    "\n",
    "        a0, va0, s0, vs0 = z0\n",
    "        a1, va1, s1, vs1 = z1\n",
    "\n",
    "        res= ( array([  a0 - 1/(1+exp(-eps)),      # Nernst BC on a at electrode-film interface\n",
    "                       vs0 ]),                      # Zero flux BC on s at electrode-film interface\n",
    "\n",
    "               array([ va1,                        # Zero flux BC on a at film-solution interface\n",
    "                        s1 - 1 ] ) )               # Concentration BC on s at film-solution interface\n",
    "\n",
    "        return res\n",
    "\n",
    "    problem = scikits.bvp_solver.ProblemDefinition(num_ODE = 4,\n",
    "                                          num_parameters = 0,\n",
    "                                          num_left_boundary_conditions = 2,\n",
    "                                          boundary_points = (0, 1),\n",
    "                                          function = deq,\n",
    "                                          boundary_conditions = bc)\n",
    "    \n",
    "    solution = scikits.bvp_solver.solve(problem,\n",
    "                            solution_guess = (1,0,1,0), trace=1 )\n",
    "\n",
    "    x = linspace(0,1)\n",
    "    y=solution(x)\n",
    "    icd=-n*F/vm*DM*Mtot/L*y[1,0]\n",
    "    \n",
    "    return icd"
   ]
  },
  {
   "cell_type": "code",
   "execution_count": 37,
   "metadata": {
    "collapsed": false
   },
   "outputs": [
    {
     "data": {
      "image/png": "[encoded data removed]",
      "text/plain": [
       "<matplotlib.figure.Figure at 0x11a372a90>"
      ]
     },
     "metadata": {},
     "output_type": "display_data"
    }
   ],
   "source": [
    "STc=1e-6\n",
    "cv=vectorize(catcurve)\n",
    "icd_cat=cv(V,STc,L)\n",
    "plot(V,icd_cat*1000,'-og')\n",
    "xlabel('Potential / V vs. SHE')\n",
    "ylabel('Current Density / mA cm$^{-2}$')\n",
    "title('Cathode Polarization Curve')\n",
    "show()"
   ]
  },
  {
   "cell_type": "markdown",
   "metadata": {},
   "source": [
    "Interpolate the anode and polarization curves in terms of current density"
   ]
  },
  {
   "cell_type": "code",
   "execution_count": 38,
   "metadata": {
    "collapsed": true
   },
   "outputs": [],
   "source": [
    "pv_i=interp1d(icd1,V)\n",
    "cv_i= interp1d(icd_cat,V)"
   ]
  },
  {
   "cell_type": "markdown",
   "metadata": {},
   "source": [
    "Define a range of current densities up to the smallest maximum current density of either the anode or cathode. "
   ]
  },
  {
   "cell_type": "code",
   "execution_count": 50,
   "metadata": {
    "collapsed": false
   },
   "outputs": [],
   "source": [
    "imax= amin(amax(array([icd1,icd_cat]),axis=1))\n",
    "icell=imax*logspace(-3,0,121)"
   ]
  },
  {
   "cell_type": "markdown",
   "metadata": {},
   "source": [
    "Calculate a Cell potential by taking the difference in cathode and anode potentials over this current density range."
   ]
  },
  {
   "cell_type": "code",
   "execution_count": 51,
   "metadata": {
    "collapsed": true
   },
   "outputs": [],
   "source": [
    "V_cell=cv_i(icell)-pv_i(icell)"
   ]
  },
  {
   "cell_type": "code",
   "execution_count": 62,
   "metadata": {
    "collapsed": false
   },
   "outputs": [
    {
     "data": {
      "image/png": "[encoded data removed]",
      "text/plain": [
       "<matplotlib.figure.Figure at 0x11b41a910>"
      ]
     },
     "metadata": {},
     "output_type": "display_data"
    }
   ],
   "source": [
    "fa,    =plot(icell*1000, pv_i(icell),'-')\n",
    "fc,    =plot(icell*1000, cv_i(icell),'-')\n",
    "fcell, =plot(icell*1000, V_cell,'s-')\n",
    "ylabel('Potential / V vs. SHE')\n",
    "xlabel('Current Density / mA cm$^{-2}$')\n",
    "legend([fp5, f1, f2],['Anode','Cathode','Cell'],loc=8)\n",
    "\n",
    "show()"
   ]
  },
  {
   "cell_type": "markdown",
   "metadata": {},
   "source": [
    "In this case the anode is clearly rate limiting. The power curve can also easily be calculated."
   ]
  },
  {
   "cell_type": "code",
   "execution_count": 66,
   "metadata": {
    "collapsed": false
   },
   "outputs": [
    {
     "data": {
      "image/png": "[encoded data removed]",
      "text/plain": [
       "<matplotlib.figure.Figure at 0x11b166d10>"
      ]
     },
     "metadata": {},
     "output_type": "display_data"
    }
   ],
   "source": [
    "plot(icell*1000, V_cell*icell*1000,'s-')\n",
    "xlabel('Current Density / mA cm$^{-2}$')\n",
    "ylabel('Power Density / mW cm$^{-2}$')s\n",
    "show()"
   ]
  },
  {
   "cell_type": "code",
   "execution_count": null,
   "metadata": {
    "collapsed": true
   },
   "outputs": [],
   "source": []
  }
 ],
 "metadata": {
  "kernelspec": {
   "display_name": "Python 2",
   "language": "python",
   "name": "python2"
  },
  "language_info": {
   "codemirror_mode": {
    "name": "ipython",
    "version": 2
   },
   "file_extension": ".py",
   "mimetype": "text/x-python",
   "name": "python",
   "nbconvert_exporter": "python",
   "pygments_lexer": "ipython2",
   "version": "2.7.10"
  }
 },
 "nbformat": 4,
 "nbformat_minor": 0
}
